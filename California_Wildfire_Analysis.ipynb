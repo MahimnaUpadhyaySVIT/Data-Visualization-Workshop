{
 "cells": [
  {
   "cell_type": "code",
   "execution_count": 35,
   "id": "9c9e2fd0-9a79-40c3-881a-e79526e2ddfd",
   "metadata": {},
   "outputs": [],
   "source": [
    "import numpy as np\n",
    "import pandas as pd\n",
    "import matplotlib.pyplot as plt"
   ]
  },
  {
   "cell_type": "markdown",
   "id": "106c0ca3-2171-4d35-a05e-da95fac32729",
   "metadata": {},
   "source": [
    "<h1>Loading Data</h1>"
   ]
  },
  {
   "cell_type": "code",
   "execution_count": 36,
   "id": "07515c27-46a6-4abc-9729-d6a82dcd5479",
   "metadata": {},
   "outputs": [],
   "source": [
    "dataset = pd.read_csv('.\\\\Datasets\\\\california\\\\california_wildfire_damage.csv')"
   ]
  },
  {
   "cell_type": "code",
   "execution_count": 37,
   "id": "4664857b-ca96-402e-b6e6-04684c5ddcd5",
   "metadata": {},
   "outputs": [
    {
     "data": {
      "text/html": [
       "<div>\n",
       "<style scoped>\n",
       "    .dataframe tbody tr th:only-of-type {\n",
       "        vertical-align: middle;\n",
       "    }\n",
       "\n",
       "    .dataframe tbody tr th {\n",
       "        vertical-align: top;\n",
       "    }\n",
       "\n",
       "    .dataframe thead th {\n",
       "        text-align: right;\n",
       "    }\n",
       "</style>\n",
       "<table border=\"1\" class=\"dataframe\">\n",
       "  <thead>\n",
       "    <tr style=\"text-align: right;\">\n",
       "      <th></th>\n",
       "      <th>Incident_ID</th>\n",
       "      <th>Date</th>\n",
       "      <th>Location</th>\n",
       "      <th>Area_Burned (Acres)</th>\n",
       "      <th>Homes_Destroyed</th>\n",
       "      <th>Businesses_Destroyed</th>\n",
       "      <th>Vehicles_Damaged</th>\n",
       "      <th>Injuries</th>\n",
       "      <th>Fatalities</th>\n",
       "      <th>Estimated_Financial_Loss (Million $)</th>\n",
       "      <th>Cause</th>\n",
       "    </tr>\n",
       "  </thead>\n",
       "  <tbody>\n",
       "    <tr>\n",
       "      <th>0</th>\n",
       "      <td>INC1000</td>\n",
       "      <td>2020-11-22</td>\n",
       "      <td>Sonoma County</td>\n",
       "      <td>14048</td>\n",
       "      <td>763</td>\n",
       "      <td>474</td>\n",
       "      <td>235</td>\n",
       "      <td>70</td>\n",
       "      <td>19</td>\n",
       "      <td>2270.57</td>\n",
       "      <td>Lightning</td>\n",
       "    </tr>\n",
       "    <tr>\n",
       "      <th>1</th>\n",
       "      <td>INC1001</td>\n",
       "      <td>2021-09-23</td>\n",
       "      <td>Sonoma County</td>\n",
       "      <td>33667</td>\n",
       "      <td>1633</td>\n",
       "      <td>4</td>\n",
       "      <td>263</td>\n",
       "      <td>100</td>\n",
       "      <td>2</td>\n",
       "      <td>1381.14</td>\n",
       "      <td>Lightning</td>\n",
       "    </tr>\n",
       "    <tr>\n",
       "      <th>2</th>\n",
       "      <td>INC1002</td>\n",
       "      <td>2022-02-10</td>\n",
       "      <td>Shasta County</td>\n",
       "      <td>26394</td>\n",
       "      <td>915</td>\n",
       "      <td>291</td>\n",
       "      <td>31</td>\n",
       "      <td>50</td>\n",
       "      <td>6</td>\n",
       "      <td>2421.96</td>\n",
       "      <td>Human Activity</td>\n",
       "    </tr>\n",
       "    <tr>\n",
       "      <th>3</th>\n",
       "      <td>INC1003</td>\n",
       "      <td>2021-05-17</td>\n",
       "      <td>Sonoma County</td>\n",
       "      <td>20004</td>\n",
       "      <td>1220</td>\n",
       "      <td>128</td>\n",
       "      <td>34</td>\n",
       "      <td>28</td>\n",
       "      <td>0</td>\n",
       "      <td>3964.16</td>\n",
       "      <td>Unknown</td>\n",
       "    </tr>\n",
       "    <tr>\n",
       "      <th>4</th>\n",
       "      <td>INC1004</td>\n",
       "      <td>2021-09-22</td>\n",
       "      <td>Sonoma County</td>\n",
       "      <td>40320</td>\n",
       "      <td>794</td>\n",
       "      <td>469</td>\n",
       "      <td>147</td>\n",
       "      <td>0</td>\n",
       "      <td>15</td>\n",
       "      <td>1800.09</td>\n",
       "      <td>Unknown</td>\n",
       "    </tr>\n",
       "    <tr>\n",
       "      <th>...</th>\n",
       "      <td>...</td>\n",
       "      <td>...</td>\n",
       "      <td>...</td>\n",
       "      <td>...</td>\n",
       "      <td>...</td>\n",
       "      <td>...</td>\n",
       "      <td>...</td>\n",
       "      <td>...</td>\n",
       "      <td>...</td>\n",
       "      <td>...</td>\n",
       "      <td>...</td>\n",
       "    </tr>\n",
       "    <tr>\n",
       "      <th>95</th>\n",
       "      <td>INC1095</td>\n",
       "      <td>2018-01-16</td>\n",
       "      <td>Mendocino County</td>\n",
       "      <td>13112</td>\n",
       "      <td>1468</td>\n",
       "      <td>46</td>\n",
       "      <td>281</td>\n",
       "      <td>89</td>\n",
       "      <td>17</td>\n",
       "      <td>4008.58</td>\n",
       "      <td>Human Activity</td>\n",
       "    </tr>\n",
       "    <tr>\n",
       "      <th>96</th>\n",
       "      <td>INC1096</td>\n",
       "      <td>2022-07-07</td>\n",
       "      <td>Shasta County</td>\n",
       "      <td>39209</td>\n",
       "      <td>710</td>\n",
       "      <td>282</td>\n",
       "      <td>189</td>\n",
       "      <td>34</td>\n",
       "      <td>14</td>\n",
       "      <td>376.72</td>\n",
       "      <td>Human Activity</td>\n",
       "    </tr>\n",
       "    <tr>\n",
       "      <th>97</th>\n",
       "      <td>INC1097</td>\n",
       "      <td>2016-05-18</td>\n",
       "      <td>Shasta County</td>\n",
       "      <td>11863</td>\n",
       "      <td>702</td>\n",
       "      <td>9</td>\n",
       "      <td>40</td>\n",
       "      <td>100</td>\n",
       "      <td>1</td>\n",
       "      <td>1474.78</td>\n",
       "      <td>Human Activity</td>\n",
       "    </tr>\n",
       "    <tr>\n",
       "      <th>98</th>\n",
       "      <td>INC1098</td>\n",
       "      <td>2014-06-24</td>\n",
       "      <td>Napa Valley</td>\n",
       "      <td>1338</td>\n",
       "      <td>1619</td>\n",
       "      <td>262</td>\n",
       "      <td>293</td>\n",
       "      <td>94</td>\n",
       "      <td>3</td>\n",
       "      <td>3308.74</td>\n",
       "      <td>Human Activity</td>\n",
       "    </tr>\n",
       "    <tr>\n",
       "      <th>99</th>\n",
       "      <td>INC1099</td>\n",
       "      <td>2021-03-20</td>\n",
       "      <td>Mendocino County</td>\n",
       "      <td>44299</td>\n",
       "      <td>1217</td>\n",
       "      <td>172</td>\n",
       "      <td>176</td>\n",
       "      <td>81</td>\n",
       "      <td>20</td>\n",
       "      <td>4276.78</td>\n",
       "      <td>Human Activity</td>\n",
       "    </tr>\n",
       "  </tbody>\n",
       "</table>\n",
       "<p>100 rows × 11 columns</p>\n",
       "</div>"
      ],
      "text/plain": [
       "   Incident_ID        Date          Location  Area_Burned (Acres)  \\\n",
       "0      INC1000  2020-11-22     Sonoma County                14048   \n",
       "1      INC1001  2021-09-23     Sonoma County                33667   \n",
       "2      INC1002  2022-02-10     Shasta County                26394   \n",
       "3      INC1003  2021-05-17     Sonoma County                20004   \n",
       "4      INC1004  2021-09-22     Sonoma County                40320   \n",
       "..         ...         ...               ...                  ...   \n",
       "95     INC1095  2018-01-16  Mendocino County                13112   \n",
       "96     INC1096  2022-07-07     Shasta County                39209   \n",
       "97     INC1097  2016-05-18     Shasta County                11863   \n",
       "98     INC1098  2014-06-24       Napa Valley                 1338   \n",
       "99     INC1099  2021-03-20  Mendocino County                44299   \n",
       "\n",
       "    Homes_Destroyed  Businesses_Destroyed  Vehicles_Damaged  Injuries  \\\n",
       "0               763                   474               235        70   \n",
       "1              1633                     4               263       100   \n",
       "2               915                   291                31        50   \n",
       "3              1220                   128                34        28   \n",
       "4               794                   469               147         0   \n",
       "..              ...                   ...               ...       ...   \n",
       "95             1468                    46               281        89   \n",
       "96              710                   282               189        34   \n",
       "97              702                     9                40       100   \n",
       "98             1619                   262               293        94   \n",
       "99             1217                   172               176        81   \n",
       "\n",
       "    Fatalities  Estimated_Financial_Loss (Million $)           Cause  \n",
       "0           19                               2270.57       Lightning  \n",
       "1            2                               1381.14       Lightning  \n",
       "2            6                               2421.96  Human Activity  \n",
       "3            0                               3964.16         Unknown  \n",
       "4           15                               1800.09         Unknown  \n",
       "..         ...                                   ...             ...  \n",
       "95          17                               4008.58  Human Activity  \n",
       "96          14                                376.72  Human Activity  \n",
       "97           1                               1474.78  Human Activity  \n",
       "98           3                               3308.74  Human Activity  \n",
       "99          20                               4276.78  Human Activity  \n",
       "\n",
       "[100 rows x 11 columns]"
      ]
     },
     "execution_count": 37,
     "metadata": {},
     "output_type": "execute_result"
    }
   ],
   "source": [
    "dataset"
   ]
  },
  {
   "cell_type": "code",
   "execution_count": null,
   "id": "63709454-59ba-41bf-b50d-cb8f5491e28d",
   "metadata": {},
   "outputs": [],
   "source": []
  },
  {
   "cell_type": "markdown",
   "id": "54afe45a-995a-432c-a84a-2eb1a579a7d3",
   "metadata": {},
   "source": [
    "<h1>Cleaning dataset (Removing unwanted spaces)</h1>"
   ]
  },
  {
   "cell_type": "code",
   "execution_count": null,
   "id": "65418349-e882-4390-bdd3-12667097c1ab",
   "metadata": {},
   "outputs": [],
   "source": []
  },
  {
   "cell_type": "code",
   "execution_count": 38,
   "id": "443086cb-5401-4c22-93ef-d647e684a591",
   "metadata": {},
   "outputs": [
    {
     "data": {
      "text/plain": [
       "Index(['Incident_ID', 'Date', 'Location', 'Area_Burned (Acres)',\n",
       "       'Homes_Destroyed', 'Businesses_Destroyed', 'Vehicles_Damaged',\n",
       "       'Injuries', 'Fatalities', 'Estimated_Financial_Loss (Million $)',\n",
       "       'Cause'],\n",
       "      dtype='object')"
      ]
     },
     "execution_count": 38,
     "metadata": {},
     "output_type": "execute_result"
    }
   ],
   "source": [
    "dataset.columns = dataset.columns.str.strip()\n",
    "dataset.columns"
   ]
  },
  {
   "cell_type": "code",
   "execution_count": null,
   "id": "3b5f26a6-fb1b-4d90-a014-f9c3495f068f",
   "metadata": {},
   "outputs": [],
   "source": []
  },
  {
   "cell_type": "markdown",
   "id": "11f5a969-9d24-4ef1-9684-4f7b78d262b0",
   "metadata": {},
   "source": [
    "<h1>Area Damage according to Disaster</h1>"
   ]
  },
  {
   "cell_type": "code",
   "execution_count": null,
   "id": "096dc0b7-8a5c-4469-b3fa-5acb8f144568",
   "metadata": {},
   "outputs": [],
   "source": []
  },
  {
   "cell_type": "code",
   "execution_count": 44,
   "id": "e8d81ccc-b8aa-44ed-a973-b735ab5d3dc8",
   "metadata": {},
   "outputs": [],
   "source": [
    "cause = dataset['Cause'].tolist()\n",
    "area_loss = dataset['Area_Burned (Acres)'].tolist()"
   ]
  },
  {
   "cell_type": "code",
   "execution_count": 45,
   "id": "1a1d3560-41ff-4592-8861-084bc98b0311",
   "metadata": {},
   "outputs": [
    {
     "data": {
      "image/png": "[encoded data removed]",
      "text/plain": [
       "<Figure size 1000x500 with 1 Axes>"
      ]
     },
     "metadata": {},
     "output_type": "display_data"
    }
   ],
   "source": [
    "fig, ax = plt.subplots(figsize=(10,5))\n",
    "fig.suptitle('Area damage according to Disaster')\n",
    "ax.bar(cause, area_loss)\n",
    "ax.set_xlabel('Disasters')\n",
    "ax.set_ylabel('Area Damage (Acres)')\n",
    "plt.show()"
   ]
  },
  {
   "cell_type": "code",
   "execution_count": null,
   "id": "518326e7-001c-4abb-925f-bceb1d57fa8b",
   "metadata": {},
   "outputs": [],
   "source": []
  },
  {
   "cell_type": "markdown",
   "id": "a2b9e1e6-454b-4eac-9875-4cf2f074e0dc",
   "metadata": {},
   "source": [
    "<h1></h1>"
   ]
  }
 ],
 "metadata": {
  "kernelspec": {
   "display_name": "Python 3 (ipykernel)",
   "language": "python",
   "name": "python3"
  },
  "language_info": {
   "codemirror_mode": {
    "name": "ipython",
    "version": 3
   },
   "file_extension": ".py",
   "mimetype": "text/x-python",
   "name": "python",
   "nbconvert_exporter": "python",
   "pygments_lexer": "ipython3",
   "version": "3.12.9"
  }
 },
 "nbformat": 4,
 "nbformat_minor": 5
}
