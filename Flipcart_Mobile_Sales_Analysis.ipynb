{
 "cells": [
  {
   "cell_type": "code",
   "execution_count": 17,
   "id": "446f6ea9-4b7f-4582-aebf-39b595b15bdf",
   "metadata": {},
   "outputs": [],
   "source": [
    "import numpy as np\n",
    "import pandas as pd\n",
    "import matplotlib.pyplot as plt\n",
    "import seaborn as sns"
   ]
  },
  {
   "cell_type": "code",
   "execution_count": null,
   "id": "6a82fb18-eeb5-4350-8276-114658b8ad32",
   "metadata": {},
   "outputs": [],
   "source": []
  },
  {
   "cell_type": "markdown",
   "id": "8efdc064-26ff-4431-9786-c82f63b0cdbd",
   "metadata": {},
   "source": [
    "<h1>Loading Dataset</h1>"
   ]
  },
  {
   "cell_type": "code",
   "execution_count": null,
   "id": "fe3ab8af-69e4-4567-a0d5-5d70c3fc1aab",
   "metadata": {},
   "outputs": [],
   "source": []
  },
  {
   "cell_type": "code",
   "execution_count": 2,
   "id": "317b8d9b-efd7-4953-8f5a-7341817fcacf",
   "metadata": {},
   "outputs": [],
   "source": [
    "dataset = pd.read_csv(\"Datasets\\\\flipcart\\\\flipkart_mobile.csv\")"
   ]
  },
  {
   "cell_type": "code",
   "execution_count": 3,
   "id": "49a39ef0-c745-4a88-b364-e68f8fc29b6f",
   "metadata": {},
   "outputs": [
    {
     "data": {
      "text/html": [
       "<div>\n",
       "<style scoped>\n",
       "    .dataframe tbody tr th:only-of-type {\n",
       "        vertical-align: middle;\n",
       "    }\n",
       "\n",
       "    .dataframe tbody tr th {\n",
       "        vertical-align: top;\n",
       "    }\n",
       "\n",
       "    .dataframe thead th {\n",
       "        text-align: right;\n",
       "    }\n",
       "</style>\n",
       "<table border=\"1\" class=\"dataframe\">\n",
       "  <thead>\n",
       "    <tr style=\"text-align: right;\">\n",
       "      <th></th>\n",
       "      <th>Brand</th>\n",
       "      <th>Model</th>\n",
       "      <th>Color</th>\n",
       "      <th>Memory</th>\n",
       "      <th>Storage</th>\n",
       "      <th>Rating</th>\n",
       "      <th>Selling Price</th>\n",
       "      <th>Original Price</th>\n",
       "    </tr>\n",
       "  </thead>\n",
       "  <tbody>\n",
       "    <tr>\n",
       "      <th>0</th>\n",
       "      <td>OPPO</td>\n",
       "      <td>A53</td>\n",
       "      <td>Moonlight Black</td>\n",
       "      <td>4 GB</td>\n",
       "      <td>64 GB</td>\n",
       "      <td>4.5</td>\n",
       "      <td>11990.0</td>\n",
       "      <td>15990.0</td>\n",
       "    </tr>\n",
       "    <tr>\n",
       "      <th>1</th>\n",
       "      <td>OPPO</td>\n",
       "      <td>A53</td>\n",
       "      <td>Mint Cream</td>\n",
       "      <td>4 GB</td>\n",
       "      <td>64 GB</td>\n",
       "      <td>4.5</td>\n",
       "      <td>11990.0</td>\n",
       "      <td>15990.0</td>\n",
       "    </tr>\n",
       "    <tr>\n",
       "      <th>2</th>\n",
       "      <td>OPPO</td>\n",
       "      <td>A53</td>\n",
       "      <td>Moonlight Black</td>\n",
       "      <td>6 GB</td>\n",
       "      <td>128 GB</td>\n",
       "      <td>4.3</td>\n",
       "      <td>13990.0</td>\n",
       "      <td>17990.0</td>\n",
       "    </tr>\n",
       "    <tr>\n",
       "      <th>3</th>\n",
       "      <td>OPPO</td>\n",
       "      <td>A53</td>\n",
       "      <td>Mint Cream</td>\n",
       "      <td>6 GB</td>\n",
       "      <td>128 GB</td>\n",
       "      <td>4.3</td>\n",
       "      <td>13990.0</td>\n",
       "      <td>17990.0</td>\n",
       "    </tr>\n",
       "    <tr>\n",
       "      <th>4</th>\n",
       "      <td>OPPO</td>\n",
       "      <td>A53</td>\n",
       "      <td>Electric Black</td>\n",
       "      <td>4 GB</td>\n",
       "      <td>64 GB</td>\n",
       "      <td>4.5</td>\n",
       "      <td>11990.0</td>\n",
       "      <td>15990.0</td>\n",
       "    </tr>\n",
       "    <tr>\n",
       "      <th>...</th>\n",
       "      <td>...</td>\n",
       "      <td>...</td>\n",
       "      <td>...</td>\n",
       "      <td>...</td>\n",
       "      <td>...</td>\n",
       "      <td>...</td>\n",
       "      <td>...</td>\n",
       "      <td>...</td>\n",
       "    </tr>\n",
       "    <tr>\n",
       "      <th>2642</th>\n",
       "      <td>Xiaomi</td>\n",
       "      <td>Redmi Y3</td>\n",
       "      <td>Bold Red</td>\n",
       "      <td>4 GB</td>\n",
       "      <td>64 GB</td>\n",
       "      <td>4.3</td>\n",
       "      <td>12999.0</td>\n",
       "      <td>13999.0</td>\n",
       "    </tr>\n",
       "    <tr>\n",
       "      <th>2643</th>\n",
       "      <td>Xiaomi</td>\n",
       "      <td>Redmi Y3</td>\n",
       "      <td>Elegant Blue</td>\n",
       "      <td>3 GB</td>\n",
       "      <td>32 GB</td>\n",
       "      <td>4.3</td>\n",
       "      <td>9450.0</td>\n",
       "      <td>NaN</td>\n",
       "    </tr>\n",
       "    <tr>\n",
       "      <th>2644</th>\n",
       "      <td>Xiaomi</td>\n",
       "      <td>Redmi Y3</td>\n",
       "      <td>Elegant Blue</td>\n",
       "      <td>4 GB</td>\n",
       "      <td>64 GB</td>\n",
       "      <td>4.2</td>\n",
       "      <td>12999.0</td>\n",
       "      <td>NaN</td>\n",
       "    </tr>\n",
       "    <tr>\n",
       "      <th>2645</th>\n",
       "      <td>Xiaomi</td>\n",
       "      <td>Redmi Y3</td>\n",
       "      <td>Prime Black</td>\n",
       "      <td>3 GB</td>\n",
       "      <td>32 GB</td>\n",
       "      <td>4.2</td>\n",
       "      <td>9950.0</td>\n",
       "      <td>NaN</td>\n",
       "    </tr>\n",
       "    <tr>\n",
       "      <th>2646</th>\n",
       "      <td>Xiaomi</td>\n",
       "      <td>Redmi Y3</td>\n",
       "      <td>Prime Black</td>\n",
       "      <td>4 GB</td>\n",
       "      <td>64 GB</td>\n",
       "      <td>4.3</td>\n",
       "      <td>12499.0</td>\n",
       "      <td>13999.0</td>\n",
       "    </tr>\n",
       "  </tbody>\n",
       "</table>\n",
       "<p>2647 rows × 8 columns</p>\n",
       "</div>"
      ],
      "text/plain": [
       "       Brand      Model            Color Memory Storage  Rating  \\\n",
       "0       OPPO        A53  Moonlight Black   4 GB   64 GB     4.5   \n",
       "1       OPPO        A53       Mint Cream   4 GB   64 GB     4.5   \n",
       "2       OPPO        A53  Moonlight Black   6 GB  128 GB     4.3   \n",
       "3       OPPO        A53       Mint Cream   6 GB  128 GB     4.3   \n",
       "4       OPPO        A53   Electric Black   4 GB   64 GB     4.5   \n",
       "...      ...        ...              ...    ...     ...     ...   \n",
       "2642  Xiaomi  Redmi Y3          Bold Red   4 GB   64 GB     4.3   \n",
       "2643  Xiaomi  Redmi Y3      Elegant Blue   3 GB   32 GB     4.3   \n",
       "2644  Xiaomi  Redmi Y3      Elegant Blue   4 GB   64 GB     4.2   \n",
       "2645  Xiaomi  Redmi Y3       Prime Black   3 GB   32 GB     4.2   \n",
       "2646  Xiaomi  Redmi Y3       Prime Black   4 GB   64 GB     4.3   \n",
       "\n",
       "      Selling Price  Original Price  \n",
       "0           11990.0         15990.0  \n",
       "1           11990.0         15990.0  \n",
       "2           13990.0         17990.0  \n",
       "3           13990.0         17990.0  \n",
       "4           11990.0         15990.0  \n",
       "...             ...             ...  \n",
       "2642        12999.0         13999.0  \n",
       "2643         9450.0             NaN  \n",
       "2644        12999.0             NaN  \n",
       "2645         9950.0             NaN  \n",
       "2646        12499.0         13999.0  \n",
       "\n",
       "[2647 rows x 8 columns]"
      ]
     },
     "execution_count": 3,
     "metadata": {},
     "output_type": "execute_result"
    }
   ],
   "source": [
    "dataset"
   ]
  },
  {
   "cell_type": "code",
   "execution_count": null,
   "id": "eac78a15-987c-4541-b0b1-cec16bf7704e",
   "metadata": {},
   "outputs": [],
   "source": []
  },
  {
   "cell_type": "markdown",
   "id": "acfbaaaf-2028-41c7-aaa3-a039aff5f2f0",
   "metadata": {},
   "source": [
    "<h1>Cleaning Dataset(Removing unwanted Space)</h1>"
   ]
  },
  {
   "cell_type": "code",
   "execution_count": null,
   "id": "6a73e814-a0ce-4db8-9c42-aa28909fa8fb",
   "metadata": {},
   "outputs": [],
   "source": []
  },
  {
   "cell_type": "code",
   "execution_count": 8,
   "id": "465cb084-1f1b-4141-ab1c-47aaf93cc4fc",
   "metadata": {},
   "outputs": [
    {
     "data": {
      "text/plain": [
       "Index(['Brand', 'Model', 'Color', 'Memory', 'Storage', 'Rating',\n",
       "       'Selling Price', 'Original Price'],\n",
       "      dtype='object')"
      ]
     },
     "execution_count": 8,
     "metadata": {},
     "output_type": "execute_result"
    }
   ],
   "source": [
    "dataset.columns=dataset.columns.str.strip()\n",
    "dataset.columns"
   ]
  },
  {
   "cell_type": "code",
   "execution_count": null,
   "id": "1b3ebf82-8468-45c0-9ba5-1a106257c963",
   "metadata": {},
   "outputs": [],
   "source": []
  },
  {
   "cell_type": "markdown",
   "id": "d8fc84d2-f2b9-48a4-be5e-43a6bf072bbf",
   "metadata": {},
   "source": [
    "<h1>Which Brand has highest Rating</h1>"
   ]
  },
  {
   "cell_type": "code",
   "execution_count": null,
   "id": "6232a16a-60ef-4d32-9eda-28e15197f0c8",
   "metadata": {},
   "outputs": [],
   "source": []
  },
  {
   "cell_type": "code",
   "execution_count": 10,
   "id": "e043bcc9-cde1-4e95-95cf-857e51a4e26a",
   "metadata": {},
   "outputs": [],
   "source": [
    "brand = dataset['Brand'].tolist()\n",
    "rating = dataset['Rating'].tolist()"
   ]
  },
  {
   "cell_type": "code",
   "execution_count": 26,
   "id": "7c3be292-f3cd-49b9-ac55-f6329cfe253a",
   "metadata": {},
   "outputs": [
    {
     "data": {
      "image/png": "[encoded data removed]",
      "text/plain": [
       "<Figure size 1000x400 with 1 Axes>"
      ]
     },
     "metadata": {},
     "output_type": "display_data"
    }
   ],
   "source": [
    "fig, ax = plt.subplots(figsize=(10, 4))\n",
    "ax.set_title('Brand with highest Rating')\n",
    "ax.bar(brand, rating)\n",
    "ax.tick_params(axis='x', rotation=55)\n",
    "ax.set_xlabel(\"Brands\")\n",
    "ax.set_ylabel(\"Rating\")\n",
    "plt.show()"
   ]
  }
 ],
 "metadata": {
  "kernelspec": {
   "display_name": "Python 3 (ipykernel)",
   "language": "python",
   "name": "python3"
  },
  "language_info": {
   "codemirror_mode": {
    "name": "ipython",
    "version": 3
   },
   "file_extension": ".py",
   "mimetype": "text/x-python",
   "name": "python",
   "nbconvert_exporter": "python",
   "pygments_lexer": "ipython3",
   "version": "3.12.9"
  }
 },
 "nbformat": 4,
 "nbformat_minor": 5
}
